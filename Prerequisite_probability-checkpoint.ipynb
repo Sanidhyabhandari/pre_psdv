{
 "cells": [
  {
   "cell_type": "markdown",
   "id": "6bc5075d-7738-4fa1-a6b5-3cb0fc334ce7",
   "metadata": {},
   "source": [
    "Q1)LIST OPERATIONS AND BASIC STATISTICS"
   ]
  },
  {
   "cell_type": "code",
   "execution_count": 2,
   "id": "7194413e-f239-43ea-b086-57691e659684",
   "metadata": {},
   "outputs": [
    {
     "name": "stdout",
     "output_type": "stream",
     "text": [
      "[1, 2, 3, 4, 5, 6, 7, 8, 9, 10, 11, 12, 13, 14, 15, 16, 17, 18, 19, 20]\n"
     ]
    }
   ],
   "source": [
    "l=[n for n in range(1,21)]\n",
    "print(l)"
   ]
  },
  {
   "cell_type": "code",
   "execution_count": 3,
   "id": "39affb50-a653-42e4-b0ff-ded006fec413",
   "metadata": {},
   "outputs": [
    {
     "name": "stdout",
     "output_type": "stream",
     "text": [
      "110\n"
     ]
    }
   ],
   "source": [
    "even=[i for i in l if i%2==0]\n",
    "print(sum(even))"
   ]
  },
  {
   "cell_type": "code",
   "execution_count": 4,
   "id": "c9c57d4b-8c3a-4846-9db0-7bee11124207",
   "metadata": {},
   "outputs": [
    {
     "name": "stdout",
     "output_type": "stream",
     "text": [
      "654729075\n"
     ]
    }
   ],
   "source": [
    "odd=[j for j in l if j%2!=0]\n",
    "product=1\n",
    "for ele in odd:\n",
    "    product=product*ele\n",
    "print(product)"
   ]
  },
  {
   "cell_type": "code",
   "execution_count": 5,
   "id": "2796e7f3-e0fc-4942-8b1d-0a3057613219",
   "metadata": {},
   "outputs": [
    {
     "name": "stdout",
     "output_type": "stream",
     "text": [
      "10.5\n"
     ]
    }
   ],
   "source": [
    "import statistics\n",
    "mean=statistics.mean(l)\n",
    "print(mean)"
   ]
  },
  {
   "cell_type": "code",
   "execution_count": 6,
   "id": "1367ae2f-958e-4ffe-ac8c-6c132495bd6e",
   "metadata": {},
   "outputs": [
    {
     "name": "stdout",
     "output_type": "stream",
     "text": [
      "10.5\n"
     ]
    }
   ],
   "source": [
    "median=statistics.median(l)\n",
    "print(median)"
   ]
  },
  {
   "cell_type": "code",
   "execution_count": 7,
   "id": "4b938edb-10bb-4cf0-b894-e0f7eb69296f",
   "metadata": {},
   "outputs": [
    {
     "name": "stdout",
     "output_type": "stream",
     "text": [
      "5.916079783099616\n"
     ]
    }
   ],
   "source": [
    "std=statistics.stdev(l)\n",
    "print(std)"
   ]
  },
  {
   "cell_type": "markdown",
   "id": "018da199-bb8e-440b-aa29-268d6e27813c",
   "metadata": {},
   "source": [
    "Q2)MUTABLE VS IMMUTABLE DATA TYPES"
   ]
  },
  {
   "cell_type": "markdown",
   "id": "743fabf9-04b5-4196-8763-e07bcfe91d43",
   "metadata": {},
   "source": [
    "mutable datatypes can be changed or modified after they are created.\n",
    "We can add,remove and update element.\n",
    "Example-list,dictionary\n",
    "\n",
    "immutable datatypes cannot be modified after they are created.\n",
    "Example-tuple,int"
   ]
  },
  {
   "cell_type": "markdown",
   "id": "638038a7-60c0-467d-97e3-69f2703e285b",
   "metadata": {},
   "source": [
    "Q3)FIBONACCI SEQUENCE"
   ]
  },
  {
   "cell_type": "code",
   "execution_count": 9,
   "id": "6bed90d0-425a-4b62-8ab2-c4190ae9a31b",
   "metadata": {},
   "outputs": [
    {
     "name": "stdin",
     "output_type": "stream",
     "text": [
      " 10\n"
     ]
    },
    {
     "name": "stdout",
     "output_type": "stream",
     "text": [
      "[0, 1, 1, 2, 3, 5, 8, 13, 21, 34]\n"
     ]
    }
   ],
   "source": [
    "n=int(input())\n",
    "l=[0,1]\n",
    "for i in range(1,n-1):\n",
    "    l.append(l[i]+l[i-1])\n",
    "print(l)"
   ]
  },
  {
   "cell_type": "code",
   "execution_count": 10,
   "id": "fed7ba0a-a09b-4118-89bd-6b9f21f57bf1",
   "metadata": {},
   "outputs": [
    {
     "data": {
      "image/png": "[encoded data removed]",
      "text/plain": [
       "<Figure size 640x480 with 1 Axes>"
      ]
     },
     "metadata": {},
     "output_type": "display_data"
    }
   ],
   "source": [
    "import matplotlib.pyplot as plt\n",
    "plt.plot(range(0,n),l,marker=\"o\")\n",
    "plt.title(\"Fibonacci Sequence\")\n",
    "plt.xlabel(\"Index\")\n",
    "plt.ylabel(\"Numbers\")\n",
    "plt.show()"
   ]
  },
  {
   "cell_type": "markdown",
   "id": "517e75bd-5ad0-4182-9ac3-31f02a5cbafd",
   "metadata": {},
   "source": [
    "Q4)LIST MANIPULATION"
   ]
  },
  {
   "cell_type": "code",
   "execution_count": 11,
   "id": "85ac7eb9-71a9-4190-a5b8-75bbefc644f0",
   "metadata": {},
   "outputs": [
    {
     "name": "stdout",
     "output_type": "stream",
     "text": [
      "[3, 5, 7, 6, 9, 11, 13]\n"
     ]
    }
   ],
   "source": [
    "l=[3,5,7,9,11,13]\n",
    "l.insert(3,6)\n",
    "print(l)"
   ]
  },
  {
   "cell_type": "code",
   "execution_count": 12,
   "id": "7c820fef-d0b4-4c65-ab5c-c1514c85cfa0",
   "metadata": {},
   "outputs": [
    {
     "name": "stdout",
     "output_type": "stream",
     "text": [
      "[3, 5, 6, 9, 11, 13]\n"
     ]
    }
   ],
   "source": [
    "l.remove(7)\n",
    "print(l)"
   ]
  },
  {
   "cell_type": "code",
   "execution_count": 13,
   "id": "e89ee447-e546-4b11-8834-fb95c0695003",
   "metadata": {},
   "outputs": [
    {
     "name": "stdout",
     "output_type": "stream",
     "text": [
      "[13, 11, 9, 6, 5, 3]\n"
     ]
    }
   ],
   "source": [
    "l.reverse()\n",
    "print(l)"
   ]
  },
  {
   "cell_type": "code",
   "execution_count": 14,
   "id": "02d005d9-1d38-468d-8fea-7b74ae213a52",
   "metadata": {},
   "outputs": [
    {
     "name": "stdout",
     "output_type": "stream",
     "text": [
      "7.833333333333333\n"
     ]
    }
   ],
   "source": [
    "import statistics\n",
    "mean=statistics.mean(l)\n",
    "print(mean)"
   ]
  },
  {
   "cell_type": "code",
   "execution_count": 15,
   "id": "983b4508-5c13-434f-a974-031a287a7386",
   "metadata": {},
   "outputs": [
    {
     "name": "stdout",
     "output_type": "stream",
     "text": [
      "7.5\n"
     ]
    }
   ],
   "source": [
    "median=statistics.median(l)\n",
    "print(median)"
   ]
  },
  {
   "cell_type": "markdown",
   "id": "709b2582-1171-46a8-b56f-50f9d6c83d53",
   "metadata": {},
   "source": [
    "Q5)USER INPUT AND BASIC STATISTICS"
   ]
  },
  {
   "cell_type": "code",
   "execution_count": 2,
   "id": "7c701be4-8fab-4e52-b174-d5293ebb3ef6",
   "metadata": {},
   "outputs": [
    {
     "name": "stdin",
     "output_type": "stream",
     "text": [
      " 10,20,30,40\n"
     ]
    },
    {
     "name": "stdout",
     "output_type": "stream",
     "text": [
      "['10', '20', '30', '40']\n"
     ]
    }
   ],
   "source": [
    "n=input().split(\",\")\n",
    "print(n)"
   ]
  },
  {
   "cell_type": "code",
   "execution_count": 4,
   "id": "059b4ac9-e32f-4449-830c-7f2113f1729f",
   "metadata": {},
   "outputs": [
    {
     "name": "stdout",
     "output_type": "stream",
     "text": [
      "[10, 20, 30, 40]\n"
     ]
    }
   ],
   "source": [
    "l=[int(n) for n in n]\n",
    "print(l)"
   ]
  },
  {
   "cell_type": "code",
   "execution_count": 5,
   "id": "8e134fbe-1837-41fc-b4d0-b86bac73d485",
   "metadata": {},
   "outputs": [
    {
     "name": "stdout",
     "output_type": "stream",
     "text": [
      "25.0\n"
     ]
    }
   ],
   "source": [
    "mean=sum(l)/len(l)\n",
    "print(mean)"
   ]
  },
  {
   "cell_type": "code",
   "execution_count": 6,
   "id": "ca13cf47-8012-47ac-aa27-e71ee3edf91a",
   "metadata": {},
   "outputs": [
    {
     "name": "stdout",
     "output_type": "stream",
     "text": [
      "40 10\n"
     ]
    }
   ],
   "source": [
    "l.sort()\n",
    "max=max(l)\n",
    "min=l[0]\n",
    "print(max,min)"
   ]
  },
  {
   "cell_type": "code",
   "execution_count": 10,
   "id": "43912e9e-4e5c-4f62-ae18-bd854474c1ae",
   "metadata": {},
   "outputs": [
    {
     "data": {
      "image/png": "[encoded data removed]",
      "text/plain": [
       "<Figure size 640x480 with 1 Axes>"
      ]
     },
     "metadata": {},
     "output_type": "display_data"
    }
   ],
   "source": [
    "import matplotlib.pyplot as plt\n",
    "plt.hist(l,edgecolor=\"r\")\n",
    "plt.title(\"Histogram\")\n",
    "plt.xlabel(\"values\")\n",
    "plt.ylabel(\"frequency\")\n",
    "plt.show()"
   ]
  },
  {
   "cell_type": "markdown",
   "id": "a743cc37-5348-4736-8990-c80f2ac3e703",
   "metadata": {},
   "source": [
    "Q6)PALINDROME CHECK"
   ]
  },
  {
   "cell_type": "code",
   "execution_count": 11,
   "id": "f40e08b8-d8d5-4488-b4b2-c7fc4f7a232c",
   "metadata": {},
   "outputs": [
    {
     "name": "stdin",
     "output_type": "stream",
     "text": [
      " A man a plan a canal Panama\n"
     ]
    },
    {
     "name": "stdout",
     "output_type": "stream",
     "text": [
      "True\n"
     ]
    }
   ],
   "source": [
    "s=input()\n",
    "a=s.replace(\" \",\"\")\n",
    "b=a.lower()\n",
    "if b==b[::-1]:\n",
    "    print(\"True\")\n",
    "else:\n",
    "    print(\"False\")"
   ]
  },
  {
   "cell_type": "markdown",
   "id": "cbee3d37-3250-4a30-afe2-13764dbb5e46",
   "metadata": {},
   "source": [
    "Q7)DICTIONARY OPERATIONS"
   ]
  },
  {
   "cell_type": "code",
   "execution_count": 12,
   "id": "8df04754-6525-4d9d-9ec9-66636516620e",
   "metadata": {},
   "outputs": [
    {
     "name": "stdout",
     "output_type": "stream",
     "text": [
      "75.0\n"
     ]
    }
   ],
   "source": [
    "d={\"Ram\":70,\"Shyam\":60,\"Rohan\":80,\"Mohan\":90}\n",
    "avgmarks=sum(list(d.values()))/len(list(d.values()))\n",
    "print(avgmarks)"
   ]
  },
  {
   "cell_type": "code",
   "execution_count": 13,
   "id": "148603e5-b603-4595-a249-9c9497c78f21",
   "metadata": {},
   "outputs": [
    {
     "name": "stdout",
     "output_type": "stream",
     "text": [
      "Rohan\n",
      "Mohan\n"
     ]
    }
   ],
   "source": [
    "for ele in d.keys():\n",
    "    if d[ele]>avgmarks:\n",
    "        print(ele)"
   ]
  },
  {
   "cell_type": "code",
   "execution_count": 14,
   "id": "ac95b346-dded-44ce-a528-a92042c53cdc",
   "metadata": {},
   "outputs": [
    {
     "data": {
      "image/png": "[encoded data removed]",
      "text/plain": [
       "<Figure size 640x480 with 1 Axes>"
      ]
     },
     "metadata": {},
     "output_type": "display_data"
    }
   ],
   "source": [
    "import matplotlib.pyplot as plt\n",
    "x=list(d.keys())\n",
    "y=list(d.values())\n",
    "plt.title(\"Distribution of Marks\")\n",
    "plt.xlabel(\"Student Names\")\n",
    "plt.ylabel(\"Marks\")\n",
    "plt.bar(x,y)\n",
    "plt.show()"
   ]
  },
  {
   "cell_type": "markdown",
   "id": "edd947bf-f641-42d2-8d4c-a0072c1c5082",
   "metadata": {},
   "source": [
    "Q8)TUPLE LIST CREATION"
   ]
  },
  {
   "cell_type": "code",
   "execution_count": 15,
   "id": "dde53cbc-87ac-40ef-bb7a-94bd224175f6",
   "metadata": {},
   "outputs": [
    {
     "name": "stdout",
     "output_type": "stream",
     "text": [
      "[(1, 1), (2, 4), (3, 9), (4, 16), (5, 25), (6, 36), (7, 49), (8, 64), (9, 81), (10, 100)]\n"
     ]
    }
   ],
   "source": [
    "l=[(n,n*n) for n in range(1,11)]\n",
    "print(l)"
   ]
  },
  {
   "cell_type": "code",
   "execution_count": 16,
   "id": "83b4ceff-3d8a-4d98-9163-60398a2f0cef",
   "metadata": {},
   "outputs": [
    {
     "data": {
      "image/png": "[encoded data removed]",
      "text/plain": [
       "<Figure size 640x480 with 1 Axes>"
      ]
     },
     "metadata": {},
     "output_type": "display_data"
    }
   ],
   "source": [
    "import matplotlib.pyplot as plt\n",
    "x=[n for n in range(1,11)]\n",
    "y=[n*n for n in range(1,11)]\n",
    "plt.scatter(x,y)\n",
    "plt.show()"
   ]
  },
  {
   "cell_type": "markdown",
   "id": "581f730a-7b43-495d-b2b0-d42c6d6b4844",
   "metadata": {},
   "source": [
    "Q9)MERGING DICTIONARIES"
   ]
  },
  {
   "cell_type": "code",
   "execution_count": 1,
   "id": "307543de-a8cc-435f-9289-f8a9046d0d6c",
   "metadata": {},
   "outputs": [
    {
     "name": "stdout",
     "output_type": "stream",
     "text": [
      "{'a': 10, 'b': 25, 'c': 15}\n"
     ]
    }
   ],
   "source": [
    "dict1={\"a\":10,\"b\":20}\n",
    "dict2={\"b\":5,\"c\":15}\n",
    "merge_dict=dict1.copy()\n",
    "for key,value in dict2.items():\n",
    "    if key in merge_dict:\n",
    "        merge_dict[key]=merge_dict[key]+value\n",
    "    else:\n",
    "        merge_dict[key]=value\n",
    "print(merge_dict)\n",
    "    "
   ]
  },
  {
   "cell_type": "markdown",
   "id": "6720a6f7-d1e3-4ec2-8cfe-62de1fe6c105",
   "metadata": {},
   "source": [
    "Q10)CHARACTER FREQUENCY"
   ]
  },
  {
   "cell_type": "code",
   "execution_count": 2,
   "id": "e3d43cbf-823c-4021-a9c9-7c820dcdff96",
   "metadata": {},
   "outputs": [
    {
     "name": "stdin",
     "output_type": "stream",
     "text": [
      " My Name is Sanidhya\n"
     ]
    },
    {
     "name": "stdout",
     "output_type": "stream",
     "text": [
      "my name is sanidhya\n"
     ]
    }
   ],
   "source": [
    "s=input()\n",
    "lower_case=s.lower()\n",
    "print(lower_case)"
   ]
  },
  {
   "cell_type": "code",
   "execution_count": 2,
   "id": "4a5a092e-aa2c-4400-85a9-81399965bd6c",
   "metadata": {},
   "outputs": [
    {
     "name": "stdin",
     "output_type": "stream",
     "text": [
      " aabccccddd\n"
     ]
    },
    {
     "name": "stdout",
     "output_type": "stream",
     "text": [
      "{'a': 2, 'b': 1, 'c': 4, 'd': 3}\n"
     ]
    }
   ],
   "source": [
    "lower_case=input()\n",
    "d={}\n",
    "for chr in lower_case:\n",
    "    if chr not in d.keys():\n",
    "        d[chr]=1\n",
    "    else:\n",
    "        d[chr]=d[chr]+1\n",
    "print(d)"
   ]
  },
  {
   "cell_type": "code",
   "execution_count": 4,
   "id": "cdf1cb7a-2d42-44c9-821f-5ac3792496ef",
   "metadata": {},
   "outputs": [
    {
     "data": {
      "image/png": "[encoded data removed]",
      "text/plain": [
       "<Figure size 640x480 with 1 Axes>"
      ]
     },
     "metadata": {},
     "output_type": "display_data"
    }
   ],
   "source": [
    "import matplotlib.pyplot as plt\n",
    "x=list(d.keys())\n",
    "y=list(d.values())\n",
    "plt.bar(x,y)\n",
    "plt.title(\"Frequency Graph\")\n",
    "plt.xlabel(\"characters\")\n",
    "plt.ylabel(\"frequency\")\n",
    "plt.grid(True)\n",
    "plt.show()"
   ]
  },
  {
   "cell_type": "markdown",
   "id": "6c70b2d4-28c4-42b3-a99b-ed2852a3d684",
   "metadata": {},
   "source": [
    "Q11)REMOVE DUPLICATES"
   ]
  },
  {
   "cell_type": "code",
   "execution_count": 6,
   "id": "a68b693d-cb77-49ca-af2a-c6f3facc8e06",
   "metadata": {},
   "outputs": [
    {
     "name": "stdout",
     "output_type": "stream",
     "text": [
      "[1, 2, 3, 4]\n"
     ]
    }
   ],
   "source": [
    "l=[1,2,2,1,1,3,4,3,3,3,4]\n",
    "sorted=set(l)\n",
    "print(list(sorted))"
   ]
  },
  {
   "cell_type": "code",
   "execution_count": 9,
   "id": "47f5de38-e2fe-4941-a3bd-b2aae6345037",
   "metadata": {},
   "outputs": [
    {
     "name": "stdout",
     "output_type": "stream",
     "text": [
      "2.5\n"
     ]
    }
   ],
   "source": [
    "import statistics\n",
    "mean=statistics.mean(sorted)\n",
    "print(mean)"
   ]
  },
  {
   "cell_type": "code",
   "execution_count": 10,
   "id": "00d50063-b929-4a82-ab42-00443ec4170f",
   "metadata": {},
   "outputs": [
    {
     "name": "stdout",
     "output_type": "stream",
     "text": [
      "2.5\n"
     ]
    }
   ],
   "source": [
    "median=statistics.median(sorted)\n",
    "print(median)"
   ]
  },
  {
   "cell_type": "markdown",
   "id": "f2f1a6e4-8a00-4304-9c06-700b45d0d4c1",
   "metadata": {},
   "source": [
    "Q12)STRING OPERATIONS"
   ]
  },
  {
   "cell_type": "code",
   "execution_count": 11,
   "id": "4a3819e2-d62e-48f6-8437-de1d9c5991a3",
   "metadata": {},
   "outputs": [
    {
     "name": "stdout",
     "output_type": "stream",
     "text": [
      "abskxo\n"
     ]
    }
   ],
   "source": [
    "l=[\"ram\",\"mohan\",\"shyam\",\"abskxo\"]\n",
    "a=[]\n",
    "for ele in l:\n",
    "    a.append(len(ele))\n",
    "print(l[a.index(max(a))])"
   ]
  },
  {
   "cell_type": "code",
   "execution_count": 12,
   "id": "79e5891c-69cd-4807-ab46-5fa97beca0b8",
   "metadata": {},
   "outputs": [
    {
     "name": "stdout",
     "output_type": "stream",
     "text": [
      "1\n"
     ]
    }
   ],
   "source": [
    "vowel=[\"a\",\"e\",\"i\",\"o\",\"u\"]\n",
    "count=0\n",
    "for ele in l:\n",
    "    if ele[0] in vowel:\n",
    "        count=count+1\n",
    "print(count)"
   ]
  },
  {
   "cell_type": "code",
   "execution_count": 13,
   "id": "7d0627b9-8a68-4554-92b6-56daf4d4431a",
   "metadata": {},
   "outputs": [
    {
     "data": {
      "image/png": "[encoded data removed]",
      "text/plain": [
       "<Figure size 640x480 with 1 Axes>"
      ]
     },
     "metadata": {},
     "output_type": "display_data"
    }
   ],
   "source": [
    "import matplotlib.pyplot as plt\n",
    "plt.hist(a,edgecolor=\"r\")\n",
    "plt.title(\"Histogram\")\n",
    "plt.xlabel(\"String length\")\n",
    "plt.ylabel(\"Frequency\")\n",
    "plt.show()"
   ]
  },
  {
   "cell_type": "markdown",
   "id": "236fe920-009d-42d2-9404-e5bdbcf2a4c6",
   "metadata": {},
   "source": [
    "Q13)SORTING DICTIONARIES"
   ]
  },
  {
   "cell_type": "code",
   "execution_count": 15,
   "id": "f4b83f7c-432e-49cf-a722-8474978acdd6",
   "metadata": {},
   "outputs": [
    {
     "name": "stdout",
     "output_type": "stream",
     "text": [
      "[{'name': 'Bob', 'age': 22}, {'name': 'Alice', 'age': 25}]\n"
     ]
    }
   ],
   "source": [
    "data=[{'name':\"Alice\",\"age\":25},{\"name\":\"Bob\",\"age\":22}]\n",
    "sorted_data=list(sorted(data,key=lambda x:x[\"age\"]))\n",
    "print(sorted_data)"
   ]
  },
  {
   "cell_type": "markdown",
   "id": "6b4008c3-d20d-4b4f-9605-441752264279",
   "metadata": {},
   "source": [
    "Q14)WORD FILTERING AND SORTING"
   ]
  },
  {
   "cell_type": "code",
   "execution_count": 18,
   "id": "c5dd43d1-ebeb-4b6b-8b64-48bf9c8c2173",
   "metadata": {},
   "outputs": [
    {
     "name": "stdout",
     "output_type": "stream",
     "text": [
      "['my', 'name', 'is', 'sanidhya', 'bhandari']\n"
     ]
    }
   ],
   "source": [
    "s=\"my name is sanidhya bhandari\"\n",
    "l=s.split(\" \")\n",
    "print(l)"
   ]
  },
  {
   "cell_type": "code",
   "execution_count": 19,
   "id": "641ee6d6-7504-46e2-acc9-32796ceeda1a",
   "metadata": {},
   "outputs": [
    {
     "name": "stdout",
     "output_type": "stream",
     "text": [
      "['name', 'sanidhya', 'bhandari']\n"
     ]
    }
   ],
   "source": [
    "for ele in l:\n",
    "    if len(ele)<4:\n",
    "        l.remove(ele)\n",
    "print(l)"
   ]
  },
  {
   "cell_type": "code",
   "execution_count": 20,
   "id": "4dbefb7b-75df-4c02-8aad-c4a4c06844bd",
   "metadata": {},
   "outputs": [
    {
     "name": "stdout",
     "output_type": "stream",
     "text": [
      "['bhandari', 'name', 'sanidhya']\n"
     ]
    }
   ],
   "source": [
    "l.sort()\n",
    "print(l)"
   ]
  },
  {
   "cell_type": "code",
   "execution_count": 21,
   "id": "521845c5-d116-4547-963e-8b26ad28429b",
   "metadata": {},
   "outputs": [
    {
     "data": {
      "image/png": "[encoded data removed]",
      "text/plain": [
       "<Figure size 640x480 with 1 Axes>"
      ]
     },
     "metadata": {},
     "output_type": "display_data"
    }
   ],
   "source": [
    "import matplotlib.pyplot as plt\n",
    "x=l\n",
    "y=[len(n) for n in l]\n",
    "plt.bar(x,y)\n",
    "plt.title(\"Bar Graph\")\n",
    "plt.xlabel(\"words\")\n",
    "plt.ylabel(\"words length\")\n",
    "plt.show()"
   ]
  },
  {
   "cell_type": "markdown",
   "id": "322ad792-890c-44a8-af75-8d709184d693",
   "metadata": {},
   "source": [
    "Q15)ANAGRAM FINDER"
   ]
  },
  {
   "cell_type": "code",
   "execution_count": 16,
   "id": "fd428070-0b4e-47a0-bef5-c001f7f725e8",
   "metadata": {},
   "outputs": [
    {
     "name": "stdout",
     "output_type": "stream",
     "text": [
      "['enlist', 'inlets']\n"
     ]
    }
   ],
   "source": [
    "word=\"listen\"\n",
    "words=[\"enlist\",\"google\",\"inlets\",\"banana\"]\n",
    "a=[]\n",
    "l=list(word)\n",
    "l.sort()\n",
    "for ele in words:\n",
    "    if list(sorted(list(ele)))==l:\n",
    "        a.append(ele)\n",
    "print(a)\n"
   ]
  },
  {
   "cell_type": "markdown",
   "id": "ca6d037f-149f-45e9-a242-027ef57acb80",
   "metadata": {},
   "source": [
    "Q16)SET OPERATIONS"
   ]
  },
  {
   "cell_type": "code",
   "execution_count": 24,
   "id": "4406207a-9611-4ba3-901c-5bfb72577ab7",
   "metadata": {},
   "outputs": [
    {
     "name": "stdout",
     "output_type": "stream",
     "text": [
      "{3, 4}\n",
      "{1, 2, 3, 4, 5, 6}\n",
      "{1, 2, 5, 6}\n"
     ]
    }
   ],
   "source": [
    "l1=[1,2,3,4]\n",
    "l2=[3,4,5,6]\n",
    "s1=set(l1)\n",
    "s2=set(l2)\n",
    "intersection=s1 & s2\n",
    "union=s1 | s2\n",
    "symmetric_diff=s1 ^ s2\n",
    "print(intersection)\n",
    "print(union)\n",
    "print(symmetric_diff)\n"
   ]
  },
  {
   "cell_type": "code",
   "execution_count": 27,
   "id": "8024a3a5-dd29-47ff-ac50-b13f3e6f5b0c",
   "metadata": {},
   "outputs": [
    {
     "data": {
      "image/png": "[encoded data removed]",
      "text/plain": [
       "<Figure size 640x480 with 1 Axes>"
      ]
     },
     "metadata": {},
     "output_type": "display_data"
    }
   ],
   "source": [
    "from matplotlib_venn import venn2\n",
    "import matplotlib.pyplot as plt\n",
    "venn2([s1,s2],(\"s1\",\"s2\"))\n",
    "plt.show()"
   ]
  },
  {
   "cell_type": "markdown",
   "id": "c00bc943-738a-47c9-8a0d-00661b9aca29",
   "metadata": {},
   "source": [
    "Q17)FILE OPERATIONS"
   ]
  },
  {
   "cell_type": "code",
   "execution_count": 19,
   "id": "fd193b39-ae77-4c6f-b923-563ec8ef6bbb",
   "metadata": {},
   "outputs": [],
   "source": [
    "file_name=\"number.txt\"\n",
    "numbers=[1,2,3,4]\n",
    "with open(file_name,\"w\") as f:\n",
    "    for ele in numbers:\n",
    "        f.write(str(ele))\n",
    "        f.write(\"\\n\")"
   ]
  },
  {
   "cell_type": "code",
   "execution_count": null,
   "id": "ecd5e3b7-9d46-4e18-913e-7579e2865bc9",
   "metadata": {},
   "outputs": [
    {
     "name": "stdout",
     "output_type": "stream",
     "text": [
      "10\n"
     ]
    }
   ],
   "source": [
    "with open(file_name,\"r\") as f:\n",
    "    l=list(map(lambda x: int(x[:-1]),f.readlines()))\n",
    "    print(sum(l))"
   ]
  },
  {
   "cell_type": "markdown",
   "id": "db0c1837-4776-4918-9344-14ded3abd5a3",
   "metadata": {},
   "source": [
    "Q18)WORD COUNT AND FREQUENCY"
   ]
  },
  {
   "cell_type": "code",
   "execution_count": 21,
   "id": "48bf113c-801e-4c89-90d1-6991e0247628",
   "metadata": {},
   "outputs": [
    {
     "name": "stdout",
     "output_type": "stream",
     "text": [
      "{'my': 2, 'name': 1, 'is': 3, 'sanidhya': 1}\n",
      "is\n"
     ]
    }
   ],
   "source": [
    "file=\"wordcount.txt\"\n",
    "with open(file,\"r\") as f:\n",
    "    text=f.read()\n",
    "l=text.split()\n",
    "d={}\n",
    "for ele in l:\n",
    "    if ele not in d.keys():\n",
    "        d[ele]=1\n",
    "    else:\n",
    "        d[ele]=d[ele]+1\n",
    "print(d)\n",
    "count=0\n",
    "word=None\n",
    "for key,value in d.items():\n",
    "    if value>count:\n",
    "        count=value\n",
    "        word=key\n",
    "print(word)\n",
    "    "
   ]
  },
  {
   "cell_type": "code",
   "execution_count": 22,
   "id": "bb36b6ec-50ba-4a12-b60a-b5336d8dd2b3",
   "metadata": {},
   "outputs": [
    {
     "data": {
      "image/png": "[encoded data removed]",
      "text/plain": [
       "<Figure size 640x480 with 1 Axes>"
      ]
     },
     "metadata": {},
     "output_type": "display_data"
    }
   ],
   "source": [
    "import matplotlib.pyplot as plt\n",
    "words=d.keys()\n",
    "frequency=d.values()\n",
    "plt.bar(words,frequency)\n",
    "plt.title(\"BAR GRAPH\")\n",
    "plt.xlabel(\"Words\")\n",
    "plt.ylabel(\"Frequency\")\n",
    "plt.show()"
   ]
  },
  {
   "cell_type": "markdown",
   "id": "2b677369-dc96-415d-a478-a4b393d47ccc",
   "metadata": {},
   "source": [
    "Q19)RANDOM NUMBER GENERATION"
   ]
  },
  {
   "cell_type": "code",
   "execution_count": 41,
   "id": "315a2fff-3c60-4c86-b77f-a523063a1559",
   "metadata": {},
   "outputs": [],
   "source": [
    "import random\n",
    "file=\"random.txt\"\n",
    "with open(file,\"w\") as f:\n",
    "    for i in range(0,100):\n",
    "        x=random.randint(1,50)\n",
    "        f.write(str(x)+'\\n')"
   ]
  },
  {
   "cell_type": "code",
   "execution_count": 43,
   "id": "59dd0c3a-e868-4366-9d7e-c0d05a1ac851",
   "metadata": {},
   "outputs": [
    {
     "name": "stdout",
     "output_type": "stream",
     "text": [
      "25.34\n"
     ]
    }
   ],
   "source": [
    "with open(file,\"r\") as f:\n",
    "    l=list(map(lambda x: int(x),f.readlines()))\n",
    "    print(sum(l)/len(l))"
   ]
  },
  {
   "cell_type": "markdown",
   "id": "2f75e616-320c-4e01-bda1-ae3a72289894",
   "metadata": {},
   "source": [
    "Q20)CSV FILE OPERATIONS"
   ]
  },
  {
   "cell_type": "code",
   "execution_count": 45,
   "id": "96a755c3-cbfb-452d-afdb-1ec1430dbb59",
   "metadata": {},
   "outputs": [
    {
     "name": "stdout",
     "output_type": "stream",
     "text": [
      "876.5\n"
     ]
    }
   ],
   "source": [
    "import pandas as pd\n",
    "file_path = \"data.csv\"\n",
    "\n",
    "\n",
    "df = pd.read_csv(file_path)\n",
    "total_sum = df['Amount'].sum()\n",
    "print(total_sum)"
   ]
  },
  {
   "cell_type": "code",
   "execution_count": 46,
   "id": "fa2b0f65-3421-4f03-9b2a-0befb5a7bec0",
   "metadata": {},
   "outputs": [
    {
     "data": {
      "image/png": "[encoded data removed]",
      "text/plain": [
       "<Figure size 640x480 with 1 Axes>"
      ]
     },
     "metadata": {},
     "output_type": "display_data"
    }
   ],
   "source": [
    "import matplotlib.pyplot as plt\n",
    "plt.plot(df['ID'], df['Amount'], marker='o', color='b', label='Amount')  \n",
    "plt.title('Line Plot of Amount by ID')  \n",
    "plt.xlabel('ID')  \n",
    "plt.ylabel('Amount')  \n",
    "plt.grid(True)  \n",
    "plt.legend() \n",
    "plt.show()  "
   ]
  },
  {
   "cell_type": "markdown",
   "id": "3eb4ed73-b0ef-4508-a5ea-b247d3458088",
   "metadata": {},
   "source": [
    "Q21)BASIC STATISTICS"
   ]
  },
  {
   "cell_type": "code",
   "execution_count": 2,
   "id": "c9e37b9e-7cbb-4e6b-84c8-79fea7bf0aee",
   "metadata": {},
   "outputs": [
    {
     "name": "stdout",
     "output_type": "stream",
     "text": [
      "3\n",
      "3\n",
      "1\n",
      "1.5811388300841898\n"
     ]
    }
   ],
   "source": [
    "import statistics\n",
    "l=[1,2,3,4,5]\n",
    "mean=statistics.mean(l)\n",
    "print(mean)\n",
    "median=statistics.median(l)\n",
    "print(median)\n",
    "mode=statistics.mode(l)\n",
    "print(mode)\n",
    "stddev=statistics.stdev(l)\n",
    "print(stddev)"
   ]
  },
  {
   "cell_type": "code",
   "execution_count": 3,
   "id": "285461f0-2ae3-453a-88a3-da79e5ddeb75",
   "metadata": {},
   "outputs": [
    {
     "data": {
      "image/png": "[encoded data removed]",
      "text/plain": [
       "<Figure size 640x480 with 1 Axes>"
      ]
     },
     "metadata": {},
     "output_type": "display_data"
    }
   ],
   "source": [
    "import matplotlib.pyplot as plt\n",
    "plt.boxplot(l)\n",
    "plt.show()"
   ]
  },
  {
   "cell_type": "markdown",
   "id": "b102dc3f-086a-4172-9ee8-280d4084a523",
   "metadata": {},
   "source": [
    "Q22)NORMALIZATION"
   ]
  },
  {
   "cell_type": "code",
   "execution_count": 5,
   "id": "3a5a7bf8-5858-48cb-9c99-55dcdf98d420",
   "metadata": {},
   "outputs": [
    {
     "name": "stdout",
     "output_type": "stream",
     "text": [
      "[0.0, 0.25, 0.5, 0.75, 1.0]\n"
     ]
    }
   ],
   "source": [
    "l=[10,20,30,40,50]\n",
    "a=min(l)\n",
    "b=max(l)\n",
    "x=[(n-a)/(b-a) for n in l]\n",
    "print(x)"
   ]
  },
  {
   "cell_type": "markdown",
   "id": "bba72c78-9c61-4716-ac11-ea237d7527c1",
   "metadata": {},
   "source": [
    "Q23)EVEN OR ODD"
   ]
  },
  {
   "cell_type": "code",
   "execution_count": 7,
   "id": "d614c7a1-d433-4a39-aac4-89539a610a06",
   "metadata": {},
   "outputs": [
    {
     "name": "stdin",
     "output_type": "stream",
     "text": [
      " 31\n"
     ]
    },
    {
     "name": "stdout",
     "output_type": "stream",
     "text": [
      "Odd\n"
     ]
    }
   ],
   "source": [
    "n=int(input())\n",
    "if n%2==0:\n",
    "    print(\"Even\")\n",
    "else:\n",
    "    print(\"Odd\")"
   ]
  },
  {
   "cell_type": "markdown",
   "id": "1a0d0bd4-151f-4a20-ab30-30d7c7ca3591",
   "metadata": {},
   "source": [
    "Q24)GRADE CALCULATOR"
   ]
  },
  {
   "cell_type": "code",
   "execution_count": 10,
   "id": "3e220789-fbb4-4414-88c4-6b9d828a65a6",
   "metadata": {},
   "outputs": [
    {
     "name": "stdin",
     "output_type": "stream",
     "text": [
      " 84\n"
     ]
    },
    {
     "name": "stdout",
     "output_type": "stream",
     "text": [
      "B\n"
     ]
    }
   ],
   "source": [
    "n=int(input())\n",
    "if 90<=n<=100:\n",
    "    print(\"A\")\n",
    "elif 80<=n<90:\n",
    "    print(\"B\")\n",
    "elif 70<=n<80:\n",
    "    print(\"C\")\n",
    "elif 60<=n<70:\n",
    "    print(\"D\")\n",
    "else:\n",
    "    print(\"F\")"
   ]
  },
  {
   "cell_type": "markdown",
   "id": "b297b469-2d50-48f6-9b74-d8ca2de5156a",
   "metadata": {},
   "source": [
    "Q25)LEAP YEAR CHECKER"
   ]
  },
  {
   "cell_type": "code",
   "execution_count": 14,
   "id": "4ad3de52-6529-4931-8031-5a9c4b491668",
   "metadata": {},
   "outputs": [
    {
     "name": "stdin",
     "output_type": "stream",
     "text": [
      " 3000\n"
     ]
    },
    {
     "name": "stdout",
     "output_type": "stream",
     "text": [
      "not a leap year\n"
     ]
    }
   ],
   "source": [
    "year=int(input())\n",
    "if year%4==0 and year%100!=0 or year%400==0:\n",
    "    print(\"leap year\")\n",
    "else:\n",
    "    print(\"not a leap year\")"
   ]
  },
  {
   "cell_type": "code",
   "execution_count": null,
   "id": "54236945-71f2-42cf-9960-64f533221778",
   "metadata": {},
   "outputs": [],
   "source": []
  }
 ],
 "metadata": {
  "kernelspec": {
   "display_name": "Python 3 (ipykernel)",
   "language": "python",
   "name": "python3"
  },
  "language_info": {
   "codemirror_mode": {
    "name": "ipython",
    "version": 3
   },
   "file_extension": ".py",
   "mimetype": "text/x-python",
   "name": "python",
   "nbconvert_exporter": "python",
   "pygments_lexer": "ipython3",
   "version": "3.13.1"
  }
 },
 "nbformat": 4,
 "nbformat_minor": 5
}
